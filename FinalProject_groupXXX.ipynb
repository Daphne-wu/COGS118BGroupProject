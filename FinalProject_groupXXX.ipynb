{
 "cells": [
  {
   "cell_type": "markdown",
   "metadata": {},
   "source": [
    "# COGS 118B - Final Project"
   ]
  },
  {
   "cell_type": "markdown",
   "metadata": {},
   "source": [
    "# Names\n",
    "\n",
    "Hopefully your team is at least this good. Obviously you should replace these with your names.\n",
    "\n",
    "- Audrey Liang\n",
    "- Geena Limfat\n",
    "- Nate Mead\n",
    "- Neha Sharma\n",
    "- Daphne Wu"
   ]
  },
  {
   "cell_type": "markdown",
   "metadata": {},
   "source": [
    "# Abstract \n",
    "This section should be short and clearly stated. It should be a single paragraph <200 words.  It should summarize: \n",
    "- what your goal/problem is\n",
    "- what the data used represents \n",
    "- the solution/what you did\n",
    "- major results you came up with (mention how results are measured) \n",
    "\n",
    "__NB:__ this final project form is much more report-like than the proposal and the checkpoint. Think in terms of writing a paper with bits of code in the middle to make the plots/tables"
   ]
  },
  {
   "cell_type": "markdown",
   "metadata": {},
   "source": [
    "# Background\n",
    "\n",
    "As technology and social media becomes more integrated into our society, it is becoming an increasingly viable tool for tracking social trends on larger scales than previously available. One of the most heartbreaking and devastating social trends in any society is suicide prevelance. Understanding correlations between real-world suicide rates and online discussions of mental health issues could give invaluable insights into predicting and surveilling related trends and potential risk factors. There has been a great deal of research monitoring suicide rates in the United States and abroad. Other bodies of research have also been dedicated to tracking social media as a measurement tool for the prevalence of mental health issues. One such study assessed linguistic trends shared by Twitter users diagnosed with depression, using a probabilistic model to determine if certain posting habits could indicate major depression in individuals <a name=\"DeChoudhury\"></a>[<sup>[1]</sup>](#DeChoudhury). Published in 2013, it indicated that 27 million Americans likely suffer from clinical depression, which was predicted to account for more than 30,000 suicides per year at the time. Since then, the population of the United States, prevalence of social media in everyday life, and suicide rates within the nation have all increased. According to the National Institute of Mental Health, surveys in 2020 tracked reported suicides within the United States as having reached past 45,000 <a name=\"nimhnote\"></a>[<sup>[3]</sup>](#NIMH). This is a 50% increase in a matter of 7 years. \n",
    "\n",
    "Additionally, there are studies that showed a positive correlation between cyberbullying, depression, suicidal ideation, suicidal plans, and suicide attempts, along with correlation between internet addiction and suicidality. Cyberbullying not only affects the victim, but also the perpertrator(s) as well which exposes at least 2 individuals to higher depression and behavioral issues. Cyberbullying also poses a greater threat as studies have shown that bullying through the internet increases the risk of suicidal ideation by a factor of 3.12 compared to traditional bullying’s factor of 2.16. <a name=\"ncbinote\"></a>[<sup>[4]</sup>](#ncbi). The more negative feedback that children receive onlines from strangers lowers their self-esteem and feelings of self-worth, and the more time spend on the internet increases the amount of exposure to these comments. Online victims are also more isolated than in person victims, making it more difficult for others to witness and potentially intervene. \n"
   ]
  },
  {
   "cell_type": "markdown",
   "metadata": {},
   "source": [
    "# Problem Statement\n",
    "\n",
    "Our project aims to identify tweets indicating suicide risk through sentiment analysis. After preprocessing the data using term frequency-inverse document frequency (tf-idf), VADER sentiment analysis, and principal component analysis (PCA) for dimensionality reduction, we further analyzed the data using clustering techniques such as K-means and DBSCAN. In particular, we utilized the VADER sentiment analysis tool in conjunction with a bag-of-words approach, which involves categorizing words as positive or negative to assess the sentiment of tweets. We will employ a pre-trained sentiment analysis model like VADER, which can be directly imported and applied to the tweet data to extract sentiment scores. For sentiment analysis, we are utilizing a bag-of-words approach with predefined lists of positive and negative words, omitting the need for word embeddings. \n",
    "\n",
    "Our problem is quantifiable as it involves analyzing sentiment scores assigned to tweets, which can be expressed mathematically. The problem is measurable through metrics such as sentiment polarity scores and clustering performance metrics like silhouette score or Davies–Bouldin index. Additionally, the problem is replicable as it can be reproduced with different datasets and contexts, ensuring the generalizability of findings.\n"
   ]
  },
  {
   "cell_type": "markdown",
   "metadata": {},
   "source": [
    "# Data\n",
    "\n",
    "We obtained the tweet data from the Twitter API using the Tweepy Python library. The dataset consists of approximately 10,000 tweets related to various topics, including those indicating suicide risk. Before analysis, we performed data cleaning to remove duplicates, irrelevant tweets, and retweets.\n",
    "\n",
    "### Dataset Source: Twitter API\n",
    "- Dataset Size: The dataset comprises approximately 10,000 tweets.\n",
    "- Observation Description: Each observation represents a single tweet retrieved from the Twitter API. An observation consists of several variables, including the tweet text, user ID, timestamp, and metadata such as retweet count and favorite count.\n",
    "- Critical Variables:\n",
    "    - Tweet Text: Contains the actual content of the tweet.\n",
    "    - Suicide Classification: Whether or not it is a suicidal post. \n",
    "\n",
    "### Data Cleaning Process:\n",
    "Removing Empty Rows: We dropped any empty rows present in the dataset.\n",
    "Punctuation Removal: We removed punctuation from the tweet text to ensure consistency in text processing.\n",
    "\n",
    "The detailed code for data cleaning can be found in this ADD LINK BROOOOOO!!!!! notebook, while the summary of the cleaning process is provided here for readability.\n"
   ]
  },
  {
   "cell_type": "markdown",
   "metadata": {},
   "source": [
    "# Proposed Solution\n",
    "\n",
    "The approach we are using to dentify tweets that indicate suicide risk involves a multiple step process to leverage sentiment analysis techniques combined with clustering algorithms. After preprocessing the tweets using TF-IDF (Term Frequency-Inverse Document Frequency) to extract features, we apply the VADER (Valence Aware Dictionary and sEntiment Reasoner) sentiment analysis tool to assign sentiment scores to each tweet. Then, we reduce the dimensionality of the feature space using Principal Component Analysis (PCA) to capture the most significant information while minimizing computational complexity. After the preprocessing steps, we will use two clustering algorithms, K-means and DBSCAN, to partition the tweets into distinct groups based on their sentiment and content similarities. K-means partitions the data into K clusters, where K is determined through experimentation or domain knowledge. DBSCAN, on the other hand, identifies dense regions of tweets in the feature space, allowing for the detection of outliers and noise. To incorporate sentiment analysis with a bag-of-words approach using VADER, we assign sentiment scores to individual words in each tweet based on their presence in lists of positive and negative words. These sentiment scores are then aggregated to derive an overall sentiment score for each tweet.\n",
    "\n",
    "### Implementation:\n",
    "\n",
    "- Preprocessing: We'll use Python's scikit-learn library to perform TF-IDF transformation and PCA for dimensionality reduction.\n",
    "- Sentiment Analysis: VADER sentiment analysis will be implemented using the nltk library in Python.\n",
    "- Clustering Algorithms: K-means and DBSCAN will be implemented using the scikit-learn library.\n",
    "- Bag-of-Words Approach: We'll use custom scripts to assign sentiment scores to words based on predefined lists of positive and negative words.\n",
    "\n",
    "### Evaluation:\n",
    "To evaluate the effectiveness of our solution, we'll use labeled datasets to assess the accuracy of identifying tweets indicating suicide risk. We'll compare the clustering results obtained from K-means and DBSCAN against the ground truth labels to measure clustering performance. Additionally, we'll assess the correlation between sentiment scores assigned to tweets and their corresponding ground truth labels.\n",
    "\n",
    "### Benchmark Model:\n",
    "As a benchmark model, we'll compare our solution's performance against a baseline model that employs basic text processing techniques without sentiment analysis. This baseline model may involve simple clustering algorithms applied directly to the TF-IDF transformed data without incorporating sentiment scores.\n",
    "\n",
    "With this approach, our goal is to to provide a robust and interpretable solution for identifying tweets indicating suicide risk, using te power of sentiment analysis and clustering techniques."
   ]
  },
  {
   "cell_type": "markdown",
   "metadata": {},
   "source": [
    "# Evaluation Metrics\n",
    "\n",
    "Propose at least one evaluation metric that can be used to quantify the performance of both the benchmark model and the solution model. The evaluation metric(s) you propose should be appropriate given the context of the data, the problem statement, and the intended solution. Describe how the evaluation metric(s) are derived and provide an example of their mathematical representations (if applicable). Complex evaluation metrics should be clearly defined and quantifiable (can be expressed in mathematical or logical terms)."
   ]
  },
  {
   "cell_type": "markdown",
   "metadata": {},
   "source": [
    "# Results\n",
    "\n",
    "You may have done tons of work on this. Not all of it belongs here. \n",
    "\n",
    "Reports should have a __narrative__. Once you've looked through all your results over the quarter, decide on one main point and 2-4 secondary points you want us to understand. Include the detailed code and analysis results of those points only; you should spend more time/code/plots on your main point than the others.\n",
    "\n",
    "If you went down any blind alleys that you later decided to not pursue, please don't abuse the TAs time by throwing in 81 lines of code and 4 plots related to something you actually abandoned.  Consider deleting things that are not important to your narrative.  If its slightly relevant to the narrative or you just want us to know you tried something, you could keep it in by summarizing the result in this report in a sentence or two, moving the actual analysis to another file in your repo, and providing us a link to that file.\n",
    "\n",
    "### Subsection 1\n",
    "\n",
    "You will likely have different subsections as you go through your report. For instance you might start with an analysis of the dataset/problem and from there you might be able to draw out the kinds of algorithms that are / aren't appropriate to tackle the solution.  Or something else completely if this isn't the way your project works.\n",
    "\n",
    "### Subsection 2\n",
    "\n",
    "Another likely section is if you are doing any feature selection through cross-validation or hand-design/validation of features/transformations of the data\n",
    "\n",
    "### Subsection 3\n",
    "\n",
    "Probably you need to describe the base model and demonstrate its performance.  Maybe you include a learning curve to show whether you have enough data to do train/validate/test split or have to go to k-folds or LOOCV or ???\n",
    "\n",
    "### Subsection 4\n",
    "\n",
    "Perhaps some exploration of the model selection (hyper-parameters) or algorithm selection task. Validation curves, plots showing the variability of perfromance across folds of the cross-validation, etc. If you're doing one, the outcome of the null hypothesis test or parsimony principle check to show how you are selecting the best model.\n",
    "\n",
    "### Subsection 5 \n",
    "\n",
    "Maybe you do model selection again, but using a different kind of metric than before?\n",
    "\n"
   ]
  },
  {
   "cell_type": "markdown",
   "metadata": {},
   "source": [
    "# Discussion\n",
    "\n",
    "### Interpreting the result\n",
    "\n",
    "OK, you've given us quite a bit of tech informaiton above, now its time to tell us what to pay attention to in all that.  Think clearly about your results, decide on one main point and 2-4 secondary points you want us to understand. Highlight HOW your results support those points.  You probably want 2-5 sentences per point.\n",
    "\n",
    "### Limitations\n",
    "\n",
    "Are there any problems with the work?  For instance would more data change the nature of the problem? Would it be good to explore more hyperparams than you had time for?   \n",
    "\n",
    "### Ethics & Privacy\n",
    "\n",
    "If your project has obvious potential concerns with ethics or data privacy discuss that here.  Almost every ML project put into production can have ethical implications if you use your imagination. Use your imagination.\n",
    "\n",
    "Even if you can't come up with an obvious ethical concern that should be addressed, you should know that a large number of ML projects that go into producation have unintended consequences and ethical problems once in production. How will your team address these issues?\n",
    "\n",
    "Consider a tool to help you address the potential issues such as https://deon.drivendata.org\n",
    "\n",
    "### Conclusion\n",
    "\n",
    "Reiterate your main point and in just a few sentences tell us how your results support it. Mention how this work would fit in the background/context of other work in this field if you can. Suggest directions for future work if you want to."
   ]
  },
  {
   "cell_type": "markdown",
   "metadata": {},
   "source": [
    "# Footnotes\n",
    "<a name=\"lorenznote\"></a>1.[^](#lorenz): Lorenz, T. (9 Dec 2021) Birds Aren’t Real, or Are They? Inside a Gen Z Conspiracy Theory. *The New York Times*. https://www.nytimes.com/2021/12/09/technology/birds-arent-real-gen-z-misinformation.html<br> \n",
    "<a name=\"admonishnote\"></a>2.[^](#admonish): Also refs should be important to the background, not some randomly chosen vaguely related stuff. Include a web link if possible in refs as above.<br>\n",
    "<a name=\"sotanote\"></a>3.[^](#sota): Perhaps the current state of the art solution such as you see on [Papers with code](https://paperswithcode.com/sota). Or maybe not SOTA, but rather a standard textbook/Kaggle solution to this kind of problem\n"
   ]
  },
  {
   "cell_type": "code",
   "execution_count": null,
   "metadata": {},
   "outputs": [],
   "source": []
  }
 ],
 "metadata": {
  "kernelspec": {
   "display_name": "Python 3.9.5 ('COGS118B_WI24')",
   "language": "python",
   "name": "python3"
  },
  "language_info": {
   "codemirror_mode": {
    "name": "ipython",
    "version": 3
   },
   "file_extension": ".py",
   "mimetype": "text/x-python",
   "name": "python",
   "nbconvert_exporter": "python",
   "pygments_lexer": "ipython3",
   "version": "3.9.5"
  },
  "vscode": {
   "interpreter": {
    "hash": "d32b38566dea232296ad015676f5eb17bd884ce0b9315fa59364119c2a8275d7"
   }
  }
 },
 "nbformat": 4,
 "nbformat_minor": 2
}
